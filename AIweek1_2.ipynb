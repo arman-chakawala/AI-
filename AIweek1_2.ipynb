{
  "nbformat": 4,
  "nbformat_minor": 0,
  "metadata": {
    "colab": {
      "provenance": []
    },
    "kernelspec": {
      "name": "python3",
      "display_name": "Python 3"
    },
    "language_info": {
      "name": "python"
    }
  },
  "cells": [
    {
      "cell_type": "code",
      "execution_count": 2,
      "metadata": {
        "colab": {
          "base_uri": "https://localhost:8080/"
        },
        "id": "waTfgv63FN3I",
        "outputId": "65560c73-241c-4e16-f610-1896a53c5411"
      },
      "outputs": [
        {
          "output_type": "stream",
          "name": "stdout",
          "text": [
            "total members in list is 7\n",
            "6\n",
            "14\n",
            "2 15\n",
            "total members in list is 8\n",
            "2234\n"
          ]
        }
      ],
      "source": [
        "a=[2,4,6,8,9,12,15]\n",
        "print(f\"total members in list is {len(a)}\")\n",
        "print(a[2])\n",
        "a[5]=14\n",
        "print(a[5])\n",
        "print(min(a),max(a))\n",
        "a.append(2234)\n",
        "print(f\"total members in list is {len(a)}\")\n",
        "\n",
        "print(a[7])"
      ]
    }
  ]
}